{
 "cells": [
  {
   "cell_type": "code",
   "execution_count": null,
   "id": "d8ecfef7",
   "metadata": {},
   "outputs": [],
   "source": []
  },
  {
   "cell_type": "markdown",
   "id": "aa1b2013",
   "metadata": {},
   "source": [
    "## Coursera Module 6 Peer Assignment "
   ]
  },
  {
   "cell_type": "markdown",
   "id": "fefc9729",
   "metadata": {},
   "source": [
    "Hello, this is Migs, a current data science student trying to have learn future lessons for my data science career. \n",
    "This python notebook is a test try learning all the intricacies of tools for data science. This provides overview of all data science needs and essential tools, languages, used in data science.\n"
   ]
  },
  {
   "cell_type": "markdown",
   "id": "25dd54bf",
   "metadata": {},
   "source": [
    "#### Data Science Languages\n",
    "-Python\n",
    "-R\n",
    "-C++\n",
    "-Java\n",
    "-Scala\n",
    "-Julia \n",
    "- and many more\n"
   ]
  },
  {
   "cell_type": "markdown",
   "id": "ed5bd895",
   "metadata": {},
   "source": [
    "### Data Science Libraries both python and R\n",
    "SNS\n",
    "Matplotlib\n",
    "pandas\n",
    "ggplot2\n",
    "plotly\n",
    "scikit\n",
    "tensorflow \n",
    "numpy\n"
   ]
  },
  {
   "cell_type": "markdown",
   "id": "f6592b32",
   "metadata": {},
   "source": [
    "### Data Science Tools in Category\n",
    "\n",
    "| Tool Category       | Examples                     |\n",
    "|---------------------|------------------------------|\n",
    "| Data Management     | MySQL, PostgreSQL, MongoDB   |\n",
    "| Data Analysis       | Pandas, Excel, RStudio       |\n",
    "| Data Visualization  | Tableau, Power BI, Matplotlib|\n",
    "| Machine Learning    | Scikit-learn, TensorFlow     |\n",
    "| Big Data Tools      | Hadoop, Spark                |"
   ]
  },
  {
   "cell_type": "markdown",
   "id": "eb5f8fa6",
   "metadata": {},
   "source": [
    "### Arithmetic Examples \n",
    "Aritmethic includes addition (+) subtraction (-) multiplication (*) division (/)\n"
   ]
  },
  {
   "cell_type": "code",
   "execution_count": 1,
   "id": "b998161b",
   "metadata": {},
   "outputs": [
    {
     "name": "stdout",
     "output_type": "stream",
     "text": [
      "19\n"
     ]
    }
   ],
   "source": [
    "#Multiply and add numbers:\n",
    "\n",
    "example = (2*7) + 5\n",
    "print(example)"
   ]
  },
  {
   "cell_type": "code",
   "execution_count": 8,
   "id": "9ec09850",
   "metadata": {},
   "outputs": [
    {
     "name": "stdout",
     "output_type": "stream",
     "text": [
      "30 minutes is equal to 0.5 hours.\n"
     ]
    }
   ],
   "source": [
    "#Minutes to Hrs\n",
    "\n",
    "minutes = 30\n",
    "hours = minutes / 60\n",
    "print(f\"{minutes} minutes is equal to {hours} hours.\")\n"
   ]
  },
  {
   "cell_type": "markdown",
   "id": "4ae93a13",
   "metadata": {},
   "source": [
    "### Objectives\n",
    "\n",
    "- Understand data science concepts \n",
    "- Know what each component is for\n",
    "- convert units and do arithmetic ?"
   ]
  },
  {
   "cell_type": "markdown",
   "id": "a0154c74",
   "metadata": {},
   "source": [
    "#### Author: Migs "
   ]
  }
 ],
 "metadata": {
  "kernelspec": {
   "display_name": "notebook",
   "language": "python",
   "name": "python3"
  },
  "language_info": {
   "codemirror_mode": {
    "name": "ipython",
    "version": 3
   },
   "file_extension": ".py",
   "mimetype": "text/x-python",
   "name": "python",
   "nbconvert_exporter": "python",
   "pygments_lexer": "ipython3",
   "version": "3.11.9"
  }
 },
 "nbformat": 4,
 "nbformat_minor": 5
}
